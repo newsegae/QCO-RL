{
 "cells": [
  {
   "cell_type": "code",
   "execution_count": null,
   "id": "0baa9ff6-9640-4998-84cc-71960c627272",
   "metadata": {},
   "outputs": [],
   "source": [
    "import math\n",
    "import random\n",
    "import matplotlib\n",
    "import matplotlib.pyplot as plt\n",
    "from collections import namedtuple, deque\n",
    "from itertools import count\n",
    "\n",
    "import torch\n",
    "import torch.nn as nn\n",
    "import torch.optim as optim\n",
    "import torch.nn.functional as F"
   ]
  },
  {
   "cell_type": "code",
   "execution_count": null,
   "id": "35366c49-911f-42e0-aaaf-750593c09876",
   "metadata": {},
   "outputs": [],
   "source": [
    "device = torch.device(\"cuda\" if torch.cuda.is_available() else \"cpu\")"
   ]
  },
  {
   "cell_type": "code",
   "execution_count": null,
   "id": "afd57ef6-81c3-47cb-b863-3431ad1339a2",
   "metadata": {},
   "outputs": [],
   "source": [
    "import import_ipynb\n",
    "from qc_env_parity import qc"
   ]
  },
  {
   "cell_type": "code",
   "execution_count": null,
   "id": "788a588f-64b7-4f21-980c-4567263279fa",
   "metadata": {},
   "outputs": [],
   "source": [
    "Transition = namedtuple('Transition',\n",
    "                        ('state', 'action', 'next_state', 'reward', 'done'))\n",
    "\n",
    "class ReplayMemory(object):\n",
    "\n",
    "    def __init__(self, capacity):\n",
    "        self.memory = deque([], maxlen=capacity)\n",
    "\n",
    "    def push(self, *args):\n",
    "        self.memory.append(Transition(*args))\n",
    "\n",
    "    def sample(self, batch_size):\n",
    "        return random.sample(self.memory, batch_size)\n",
    "\n",
    "    def __len__(self):\n",
    "        return len(self.memory)"
   ]
  },
  {
   "cell_type": "code",
   "execution_count": null,
   "id": "f1f37681-ec8d-4afd-8791-49049f2ae1fa",
   "metadata": {},
   "outputs": [],
   "source": [
    "class DQN(nn.Module):\n",
    "\n",
    "    def __init__(self, n_observations, n_actions):\n",
    "        super(DQN, self).__init__()\n",
    "        self.flatten = nn.Flatten()\n",
    "        self.layer1 = nn.Linear(n_observations, 256) ## 128 -> 256\n",
    "        self.layer2 = nn.Linear(256, 256)\n",
    "        self.layer3 = nn.Linear(256, n_actions)\n",
    "\n",
    "    def forward(self, x):\n",
    "        x = self.flatten(x)\n",
    "        x = F.relu(self.layer1(x))\n",
    "        x = F.relu(self.layer2(x))\n",
    "        return self.layer3(x)"
   ]
  },
  {
   "cell_type": "code",
   "execution_count": null,
   "id": "cc3ceb8a-3b2b-4d42-8380-570fb372a0ce",
   "metadata": {},
   "outputs": [],
   "source": [
    "BATCH_SIZE = 128\n",
    "GAMMA = 0.8\n",
    "EPS_START = 0.9\n",
    "EPS_END = 0.05\n",
    "EPS_DECAY = 200\n",
    "TAU = 0.005\n",
    "LR = 0.001"
   ]
  },
  {
   "cell_type": "code",
   "execution_count": null,
   "id": "1bf6d79a-b3f8-49e7-b1f7-84db3565964e",
   "metadata": {},
   "outputs": [],
   "source": [
    "env = qc()\n",
    "\n",
    "n_actions = env.act_space\n",
    "env.reset()\n",
    "n_observations = len(env.obs * 4)  ## 128"
   ]
  },
  {
   "cell_type": "code",
   "execution_count": null,
   "id": "d7e87d09-1648-49ee-83dc-958380707906",
   "metadata": {},
   "outputs": [],
   "source": [
    "policy_net = DQN(n_observations, n_actions).to(device)\n",
    "target_net = DQN(n_observations, n_actions).to(device)\n",
    "target_net.load_state_dict(policy_net.state_dict())\n",
    "\n",
    "optimizer = optim.AdamW(policy_net.parameters(), lr=LR, amsgrad=True)\n",
    "memory = ReplayMemory(10000)\n",
    "\n",
    "steps_done = 0"
   ]
  },
  {
   "cell_type": "code",
   "execution_count": null,
   "id": "93a69735-8e55-4e7d-b680-bca1e73a99e4",
   "metadata": {},
   "outputs": [],
   "source": [
    "def select_action(state):\n",
    "    global steps_done\n",
    "    sample = random.random()\n",
    "    eps_threshold = EPS_END + (EPS_START - EPS_END) * \\\n",
    "        math.exp(-1. * steps_done / EPS_DECAY)\n",
    "    steps_done += 1\n",
    "    if sample > eps_threshold:\n",
    "        #print(\"select :\",steps_done)\n",
    "        with torch.no_grad():\n",
    "            return policy_net(state).max(1)[1].view(1, 1)\n",
    "    else:\n",
    "        return torch.tensor([[env.sample()]], device=device, dtype=torch.long)"
   ]
  },
  {
   "cell_type": "code",
   "execution_count": null,
   "id": "200154ae-b0fc-4e82-a785-0146955ffecd",
   "metadata": {},
   "outputs": [],
   "source": [
    "def optimize_model():\n",
    "    if len(memory) < BATCH_SIZE:\n",
    "        return\n",
    "    transitions = memory.sample(BATCH_SIZE)\n",
    "    batch = Transition(*zip(*transitions))\n",
    "\n",
    "    state_batch = torch.cat(batch.state)\n",
    "    action_batch = torch.cat(batch.action)\n",
    "    reward_batch = torch.cat(batch.reward)\n",
    "\n",
    "    state_action_values = policy_net(state_batch).gather(1, action_batch)\n",
    "    next_state_values = torch.zeros(BATCH_SIZE, device=device)\n",
    "    \n",
    "    with torch.no_grad():\n",
    "        next_state_values = target_net(torch.cat(batch.next_state)).max(1)[0]\n",
    "\n",
    "    expected_state_action_values = (next_state_values * GAMMA) + reward_batch\n",
    "\n",
    "    criterion = nn.SmoothL1Loss()\n",
    "    loss = criterion(state_action_values, expected_state_action_values.unsqueeze(1))\n",
    "\n",
    "    optimizer.zero_grad()\n",
    "    loss.backward()\n",
    "\n",
    "    torch.nn.utils.clip_grad_value_(policy_net.parameters(), 100)\n",
    "    optimizer.step()"
   ]
  },
  {
   "cell_type": "code",
   "execution_count": null,
   "id": "1774e06e-bdd8-4086-917a-a9361289147d",
   "metadata": {},
   "outputs": [],
   "source": [
    "reward_ep_list = []\n",
    "reward_sum_ep_list = []\n",
    "obs_ep_list = []\n",
    "outs_ep_list = []"
   ]
  },
  {
   "cell_type": "code",
   "execution_count": null,
   "id": "fd5341c9-3fd4-4ff0-b71e-681de5be78f0",
   "metadata": {},
   "outputs": [],
   "source": [
    "num_episodes = 5000"
   ]
  },
  {
   "cell_type": "code",
   "execution_count": null,
   "id": "baefd799-d716-4d1a-b2f8-588ab128182c",
   "metadata": {
    "scrolled": true
   },
   "outputs": [],
   "source": [
    "%%time\n",
    "for i_episode in range(num_episodes):\n",
    "    env.reset()\n",
    "    state = env.obs\n",
    "    state = torch.tensor(state, dtype=torch.float32, device=device).unsqueeze(0)\n",
    "\n",
    "    reward_list = []; obs_list = []; outs_list = []\n",
    "    \n",
    "    for t in count():\n",
    "        action = select_action(state)\n",
    "        truncated = not env.step(action.item())\n",
    "\n",
    "        if truncated:\n",
    "            print('truncated error')\n",
    "            break\n",
    "        \n",
    "        observation = env.obs\n",
    "        reward = env.reward\n",
    "        terminated = env.term\n",
    "        done = env.done\n",
    "\n",
    "        reward = torch.tensor([reward], device=device)\n",
    "        next_state = torch.tensor(observation, dtype=torch.float32, device=device).unsqueeze(0)\n",
    "        memory.push(state, action, next_state, reward, done)\n",
    "        state = next_state\n",
    "\n",
    "        optimize_model()\n",
    "\n",
    "        target_net_state_dict = target_net.state_dict()\n",
    "        policy_net_state_dict = policy_net.state_dict()\n",
    "        for key in policy_net_state_dict:\n",
    "            target_net_state_dict[key] = policy_net_state_dict[key]*TAU + target_net_state_dict[key]*(1-TAU)\n",
    "        target_net.load_state_dict(target_net_state_dict)\n",
    "        \n",
    "        reward_list.append(reward)\n",
    "        obs_list.append(env.draw)\n",
    "        outs_list.append(env.outs)\n",
    "        \n",
    "        if terminated:\n",
    "            max_value = max(reward_list)\n",
    "            max_index = reward_list.index(max_value)\n",
    "            reward_ep_list.append(max_value)\n",
    "            reward_sum_ep_list.append(sum(reward_list))\n",
    "            obs_ep_list.append(obs_list[max_index])\n",
    "            outs_ep_list.append(outs_list[max_index])\n",
    "            print(\"Episode complete : \", i_episode+1,\"(\", t+1, \")\")\n",
    "            break"
   ]
  },
  {
   "cell_type": "code",
   "execution_count": null,
   "id": "73e13d19-f3ba-4ecb-9fb5-97c98d4bfd79",
   "metadata": {},
   "outputs": [],
   "source": [
    "import pickle"
   ]
  },
  {
   "cell_type": "code",
   "execution_count": null,
   "id": "48b6651a-0634-45d0-8a14-0dc6d3a8efbf",
   "metadata": {},
   "outputs": [],
   "source": [
    "with open('reward_ep_list.pkl', 'wb') as file: pickle.dump(reward_ep_list, file)\n",
    "with open('reward_sum_ep_list.pkl', 'wb') as file: pickle.dump(reward_sum_ep_list, file)\n",
    "with open('obs_ep_list.pkl', 'wb') as file: pickle.dump(obs_ep_list, file)\n",
    "with open('outs_ep_list.pkl', 'wb') as file: pickle.dump(outs_ep_list, file)"
   ]
  }
 ],
 "metadata": {
  "kernelspec": {
   "display_name": "Python 3 (ipykernel)",
   "language": "python",
   "name": "python3"
  },
  "language_info": {
   "codemirror_mode": {
    "name": "ipython",
    "version": 3
   },
   "file_extension": ".py",
   "mimetype": "text/x-python",
   "name": "python",
   "nbconvert_exporter": "python",
   "pygments_lexer": "ipython3",
   "version": "3.11.7"
  }
 },
 "nbformat": 4,
 "nbformat_minor": 5
}
