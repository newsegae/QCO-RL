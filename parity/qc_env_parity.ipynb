{
 "cells": [
  {
   "cell_type": "code",
   "execution_count": null,
   "id": "a971b6bd-869a-45a1-9cf9-9b611b5551b0",
   "metadata": {},
   "outputs": [],
   "source": [
    "import pennylane as qml\n",
    "from pennylane import numpy as np\n",
    "from pennylane.optimize import NesterovMomentumOptimizer\n",
    "import random"
   ]
  },
  {
   "cell_type": "code",
   "execution_count": null,
   "id": "185a30a4-afc7-461f-8b18-33a161fd6457",
   "metadata": {},
   "outputs": [],
   "source": [
    "#dev = qml.device(\"default.qubit\", wires=4)\n",
    "dev = qml.device(\"lightning.qubit\", wires=4)"
   ]
  },
  {
   "cell_type": "code",
   "execution_count": null,
   "id": "bafce97e-f8cc-4b54-a0f2-4dfea4ee303e",
   "metadata": {},
   "outputs": [],
   "source": [
    "def check_np(list):\n",
    "    num = 0\n",
    "    for r in list:\n",
    "        if r[0] == \"Rot\": num += 1\n",
    "    return num"
   ]
  },
  {
   "cell_type": "code",
   "execution_count": null,
   "id": "aa70b326-5691-4111-b9de-c5adb44eac14",
   "metadata": {},
   "outputs": [],
   "source": [
    "def ansatz(W, gatestream):\n",
    "    w_cnt = 0\n",
    "    for gate in gatestream:\n",
    "        if gate[0] == \"Rot\":\n",
    "            qml.PauliRot(W[w_cnt], gate[1], wires=gate[2])\n",
    "            w_cnt += 1\n",
    "\n",
    "        elif gate[0] == \"CNOT\":\n",
    "            qml.CNOT(wires=[gate[1], gate[2]])"
   ]
  },
  {
   "cell_type": "code",
   "execution_count": null,
   "id": "c0c9e349-edc0-4671-902c-7d4d35a1a5d8",
   "metadata": {},
   "outputs": [],
   "source": [
    "def statepreparation(x):\n",
    "    qml.BasisState(x, wires=[0, 1, 2, 3])"
   ]
  },
  {
   "cell_type": "code",
   "execution_count": null,
   "id": "15d31402-5d6d-4607-8493-ec6f875b98e0",
   "metadata": {},
   "outputs": [],
   "source": [
    "@qml.qnode(dev, interface=\"autograd\")\n",
    "def circuit(weights, x, gatestream):\n",
    "\n",
    "    statepreparation(x)\n",
    "    ansatz(weights, gatestream)\n",
    "\n",
    "    return qml.expval(qml.PauliZ(0))"
   ]
  },
  {
   "cell_type": "code",
   "execution_count": null,
   "id": "6ee6039f-df2f-44b5-b51b-a1a85d7d07db",
   "metadata": {},
   "outputs": [],
   "source": [
    "def variational_classifier(weights, bias, x, gatestream):\n",
    "    return circuit(weights, x, gatestream) + bias"
   ]
  },
  {
   "cell_type": "code",
   "execution_count": null,
   "id": "9b0e2408-a9eb-4244-9b58-c114e6e6f3ed",
   "metadata": {},
   "outputs": [],
   "source": [
    "def square_loss(labels, predictions):\n",
    "    loss = 0\n",
    "    for l, p in zip(labels, predictions):\n",
    "        loss = loss + (l - p) ** 2\n",
    "\n",
    "    loss = loss / len(labels)\n",
    "    return loss"
   ]
  },
  {
   "cell_type": "code",
   "execution_count": null,
   "id": "49e94555-4060-4d6f-b96e-ab319febcf65",
   "metadata": {},
   "outputs": [],
   "source": [
    "def accuracy(labels, predictions):\n",
    "\n",
    "    loss = 0\n",
    "    for l, p in zip(labels, predictions):\n",
    "        if abs(l - p) < 1e-5:\n",
    "            loss = loss + 1\n",
    "    loss = loss / len(labels)\n",
    "\n",
    "    return loss"
   ]
  },
  {
   "cell_type": "code",
   "execution_count": null,
   "id": "71f49c77-4c91-47be-8af5-19cec5c0560a",
   "metadata": {},
   "outputs": [],
   "source": [
    "def cost(weights, bias, X, Y, gatestream):\n",
    "    predictions = [variational_classifier(weights, bias, x, gatestream) for x in X]\n",
    "    return square_loss(Y, predictions)"
   ]
  },
  {
   "cell_type": "markdown",
   "id": "be015d6d-0b8a-4127-b6a2-23fb8102ef95",
   "metadata": {},
   "source": [
    "---"
   ]
  },
  {
   "cell_type": "code",
   "execution_count": null,
   "id": "54a8ad46-cbea-443f-acca-53397c562712",
   "metadata": {},
   "outputs": [],
   "source": [
    "def opt_classifier(gatestream):\n",
    "\n",
    "    data = np.loadtxt(\"parity.txt\")\n",
    "    X = np.array(data[:, :-1], requires_grad=False)\n",
    "    Y = np.array(data[:, -1], requires_grad=False)\n",
    "    Y = Y * 2 - np.ones(len(Y))\n",
    "\n",
    "    np.random.seed(0)\n",
    "    weights_init = 0.01 * np.random.randn(check_np(gatestream), requires_grad=True)\n",
    "    bias_init = np.array(0.0, requires_grad=True)\n",
    "    \n",
    "    opt = NesterovMomentumOptimizer(0.5)\n",
    "    batch_size = 5\n",
    "    \n",
    "    weights = weights_init\n",
    "    bias = bias_init\n",
    "\n",
    "    out_list = []\n",
    "    for it in range(15): # iters\n",
    "    \n",
    "        batch_index = np.random.randint(0, len(X), (batch_size,))\n",
    "        X_batch = X[batch_index]\n",
    "        Y_batch = Y[batch_index]\n",
    "        weights, bias, _, _, _ = opt.step(cost, weights, bias, X_batch, Y_batch, gatestream)\n",
    "    \n",
    "        predictions = [np.sign(variational_classifier(weights, bias, x, gatestream)) for x in X]\n",
    "        acc = accuracy(Y, predictions)\n",
    "\n",
    "        out_list.append([it + 1, float(cost(weights, bias, X, Y, gatestream)), float(acc)])\n",
    "\n",
    "    draw_p = qml.draw(circuit)(weights, [0, 0, 0, 0] ,gatestream)\n",
    "    \n",
    "    return out_list, draw_p"
   ]
  },
  {
   "cell_type": "code",
   "execution_count": null,
   "id": "50641228-1aef-4d19-8266-26d4b24c1554",
   "metadata": {},
   "outputs": [],
   "source": [
    "def gate_to_obs(gate):\n",
    "    \n",
    "    ob = [0, 0, 0, 0]\n",
    "    \n",
    "    if gate[0] == 'Rot':\n",
    "        ob[0] = 1\n",
    "        \n",
    "        if gate[1] == 'X': ob[2] = 1\n",
    "        elif gate[1] == 'Y': ob[2] = 2\n",
    "        elif gate[1] == 'Z': ob[2] = 3\n",
    "        \n",
    "        ob[3] = gate[2]\n",
    "    \n",
    "    elif gate[0] == 'CNOT':\n",
    "        ob[1] = 1\n",
    "        ob[2] = gate[1] \n",
    "        ob[3] = gate[2] \n",
    "    \n",
    "    return ob"
   ]
  },
  {
   "cell_type": "code",
   "execution_count": null,
   "id": "f36dceb4-ea56-4921-9a30-433cd0dd0885",
   "metadata": {},
   "outputs": [],
   "source": [
    "def update_obs(act, step, obs, gatestream, gates):\n",
    "\n",
    "    gatestream.append(gates[act])\n",
    "    \n",
    "    ob = gate_to_obs(gates[act])\n",
    "    obs[step] = ob\n",
    "    step += 1\n",
    "\n",
    "    return step, obs, gatestream"
   ]
  },
  {
   "cell_type": "code",
   "execution_count": null,
   "id": "134f7005-29a4-4b1c-b9bb-a0a299a37961",
   "metadata": {},
   "outputs": [],
   "source": [
    "def cal_reward(steps, obs, outs):\n",
    "    ## accuracy\n",
    "    acc = [row[2] for row in outs]\n",
    "    acc_m = sum(acc) / len(acc)\n",
    "\n",
    "    ## cost\n",
    "    cost = [row[1] for row in outs]\n",
    "    cost_m = 1 / (sum(cost) / len(cost))\n",
    "\n",
    "    ## variance\n",
    "    pop_list = [0, 0, 0, 0]\n",
    "    for row in obs:\n",
    "        if row[1] == 1:\n",
    "            pop_list[row[2]] += 1\n",
    "            pop_list[row[3]] += 1\n",
    "        elif row[0] == 1:\n",
    "            pop_list[row[3]] += 1\n",
    "    pop_r = (2 - np.var(pop_list)) / 2\n",
    "\n",
    "    ## duplicate\n",
    "    dup_r = 0\n",
    "    if obs[steps-1][0] == 1:\n",
    "        tc = obs[steps-1][3]\n",
    "        tc_list = []\n",
    "        for row in obs:\n",
    "            if row[1] == 1:\n",
    "                if row[2] == tc or row[3] == tc: tc_list.append(row)\n",
    "            elif row[0] == 1:\n",
    "                if row[3] == tc: tc_list.append(row)\n",
    "        if len(tc_list) > 1:\n",
    "            if tc_list[-1] == tc_list[-2]: dup_r = -10\n",
    "    elif obs[steps-1][1] == 1:\n",
    "        tc = obs[steps-1][2]\n",
    "        tc_list_c = []\n",
    "        for row in obs:\n",
    "            if row[1] == 1:\n",
    "                if row[2] == tc or row[3] == tc: tc_list_c.append(row)\n",
    "            elif row[0] == 1:\n",
    "                if row[3] == tc: tc_list_c.append(row)\n",
    "        tc = obs[steps-1][3]\n",
    "        tc_list_t = []\n",
    "        for row in obs:\n",
    "            if row[1] == 1:\n",
    "                if row[2] == tc or row[3] == tc: tc_list_t.append(row)\n",
    "            elif row[0] == 1:\n",
    "                if row[3] == tc: tc_list_t.append(row)\n",
    "        if len(tc_list_c) > 1 and len(tc_list_t) > 1:\n",
    "            if tc_list_c[-1] == tc_list_c[-2] and tc_list_t[-1] == tc_list_t[-2]: dup_r = -10\n",
    "\n",
    "    ## gate type\n",
    "    if obs[steps-1][0] == 1:\n",
    "        gate_r = 1\n",
    "        rot_r = 1\n",
    "    else:\n",
    "        gate_r = 0\n",
    "        rot_r = 0\n",
    "\n",
    "    ## CNOT distance\n",
    "    if obs[steps-1][1] == 1:   \n",
    "        cnot_r = 1 / abs(obs[steps-1][2]-obs[steps-1][3])\n",
    "    else: cnot_r = 0    \n",
    "\n",
    "    ## circuit steps\n",
    "    steps_r = (32 - steps) / 32\n",
    "    \n",
    "    return [acc_m, cost_m, gate_r, rot_r, cnot_r, steps_r, pop_r, dup_r], (acc_m - 0.5)*2 * 15 + cost_m * 2 + gate_r * 3 + rot_r + cnot_r + steps_r * 5 + pop_r * 3 + dup_r  ## with weight"
   ]
  },
  {
   "cell_type": "code",
   "execution_count": null,
   "id": "ebc1558c-0e6a-4890-b20a-a6d7072dd28f",
   "metadata": {},
   "outputs": [],
   "source": [
    "class qc:\n",
    "    def __init__(self):\n",
    "        self.gates = [['Rot','X', 0], ['Rot','X', 1], ['Rot','X', 2], ['Rot','X', 3],\n",
    "         ['Rot','Y', 0], ['Rot','Y', 1], ['Rot','Y', 2], ['Rot','Y', 3],\n",
    "         ['Rot','Z', 0], ['Rot','Z', 1], ['Rot','Z', 2], ['Rot','Z', 3],\n",
    "         ['CNOT', 0, 1],  ['CNOT', 0, 2],  ['CNOT', 0, 3],\n",
    "         ['CNOT', 1, 0],  ['CNOT', 1, 2],  ['CNOT', 1, 3],\n",
    "         ['CNOT', 2, 0],  ['CNOT', 2, 1],  ['CNOT', 2, 3],\n",
    "         ['CNOT', 3, 0],  ['CNOT', 3, 1],  ['CNOT', 3, 2]]\n",
    "        self.len_qc = 32\n",
    "        self.act_space = len(self.gates)\n",
    "    \n",
    "    def reset(self):\n",
    "        self.steps = 0\n",
    "        self.obs = [[0] * 4 for _ in range(self.len_qc)]\n",
    "        self.gatestream = []\n",
    "        self.reward = -1\n",
    "        self.term = -1\n",
    "        self.done = 0\n",
    "        return\n",
    "\n",
    "    def step(self, act):\n",
    "        if act > self.act_space-1 or act < 0:\n",
    "            print(\"out of action space\")\n",
    "            return 0\n",
    "        if self.steps > self.len_qc-1:\n",
    "            print(\"out of qc length\")\n",
    "            return 0\n",
    "        \n",
    "        self.steps, self.obs, self.gatestream = update_obs(act, self.steps, self.obs, self.gatestream, self.gates)\n",
    "        self.outs, self.draw = opt_classifier(self.gatestream)\n",
    "        \n",
    "        self.rlist, self.reward = cal_reward(self.steps, self.obs, self.outs)\n",
    "\n",
    "        if self.steps == self.len_qc: self.term = 1\n",
    "        else: self.term = 0\n",
    "\n",
    "        if max([row[2] for row in self.outs]) == 1:\n",
    "            self.done = 1\n",
    "            ##self.term = 1\n",
    "        \n",
    "        return 1\n",
    "\n",
    "    def sample(self):\n",
    "        return random.randint(0, self.act_space-1)"
   ]
  },
  {
   "cell_type": "markdown",
   "id": "e37592cb-0829-43da-b924-b94e761017bc",
   "metadata": {},
   "source": [
    "---"
   ]
  },
  {
   "cell_type": "code",
   "execution_count": null,
   "id": "9f19f7c9-8fb4-433c-b46a-18c0c2ad0305",
   "metadata": {},
   "outputs": [],
   "source": []
  }
 ],
 "metadata": {
  "kernelspec": {
   "display_name": "Python 3 (ipykernel)",
   "language": "python",
   "name": "python3"
  },
  "language_info": {
   "codemirror_mode": {
    "name": "ipython",
    "version": 3
   },
   "file_extension": ".py",
   "mimetype": "text/x-python",
   "name": "python",
   "nbconvert_exporter": "python",
   "pygments_lexer": "ipython3",
   "version": "3.11.7"
  }
 },
 "nbformat": 4,
 "nbformat_minor": 5
}
